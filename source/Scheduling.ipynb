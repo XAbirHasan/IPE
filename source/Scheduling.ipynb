{
  "nbformat": 4,
  "nbformat_minor": 2,
  "metadata": {
    "colab": {
      "name": "IPE theory.ipynb",
      "provenance": []
    },
    "kernelspec": {
      "name": "python3",
      "display_name": "Python 3"
    },
    "language_info": {
      "name": "python"
    }
  },
  "cells": [
    {
      "cell_type": "markdown",
      "source": [
        "# Chapter SCHEDULING"
      ],
      "metadata": {
        "id": "RNcVf5vRzIyT"
      }
    },
    {
      "cell_type": "markdown",
      "source": [
        "## Scheduling"
      ],
      "metadata": {
        "id": "3iAy8CnD0MTa"
      }
    },
    {
      "cell_type": "code",
      "execution_count": null,
      "source": [
        "class Schedule:\r\n",
        "    def __init__(self):\r\n",
        "        self.job_info = [['E', 68, 99],\r\n",
        "                         ['F', 112, 168],\r\n",
        "                         ['A', 31, 114],\r\n",
        "                         ['C', 99, 193],\r\n",
        "                         ['D', 77, 217],\r\n",
        "                         ['B', 119, 199]]\r\n",
        "        self.job = []\r\n",
        "        self.processing_time = []\r\n",
        "        self.due_time = []\r\n",
        "        self.flow_time = []\r\n",
        "        self.job_lateness = []\r\n",
        "\r\n",
        "        self.print_list = []\r\n",
        "\r\n",
        "    def Sort(self, sub_list, column, is_descending):\r\n",
        "        sub_list.sort(key = lambda x: x[column], reverse = is_descending)\r\n",
        "        return sub_list\r\n",
        "\r\n",
        "    def calculate(self, job_sequence):\r\n",
        "        n = len(self.job_info)\r\n",
        "\r\n",
        "        if (job_sequence == \"FCFS\"):\r\n",
        "            self.job_info = self.job_info #no chnage\r\n",
        "\r\n",
        "        elif (job_sequence == \"SPT\"):\r\n",
        "            self.job_info = self.Sort(self.job_info, 1, False)\r\n",
        "\r\n",
        "        elif (job_sequence == \"EDD\"):\r\n",
        "            self.job_info = self.Sort(self.job_info, 2, False)\r\n",
        "\r\n",
        "        elif (job_sequence == \"LPT\"):\r\n",
        "            self.job_info = self.Sort(self.job_info, 1, True)\r\n",
        "        \r\n",
        "        else:\r\n",
        "            print(\"Error job sequence\")\r\n",
        "            return\r\n",
        "        \r\n",
        "        print(job_sequence,\" The sequence of job : \", end = \" \")\r\n",
        "        for i in range (0, n):\r\n",
        "            print(self.job_info[i][0], end = \"\")\r\n",
        "            if i != n-1:\r\n",
        "                print(end=\" --> \")\r\n",
        "        \r\n",
        "        print(\"\\n\")\r\n",
        "        print(\"Table: \\n\")\r\n",
        "        print(\"-------------------------------------------------------------------------------------------------------------------------\")\r\n",
        "        print(\"|\\tJob\\t|\\tProcessingTime\\t\\t|\\tDueTime\\t\\t|\\tFlowTime\\t|\\tJobLateness\\t|\")\r\n",
        "        print(\"-------------------------------------------------------------------------------------------------------------------------\")\r\n",
        "        flow_time = 0\r\n",
        "        for i in range (0, n):\r\n",
        "            self.job.append(self.job_info[i][0])\r\n",
        "            self.processing_time.append(self.job_info[i][1])\r\n",
        "            self.due_time.append(self.job_info[i][2])\r\n",
        "\r\n",
        "            flow_time += self.processing_time[i]\r\n",
        "            job_lateness = 0\r\n",
        "            if (flow_time > self.due_time[i]):\r\n",
        "                job_lateness = flow_time - self.due_time[i]\r\n",
        "\r\n",
        "            self.flow_time.append(flow_time)\r\n",
        "            self.job_lateness.append(job_lateness)\r\n",
        "\r\n",
        "            self.print_list = []\r\n",
        "            self.print_list.append(self.job[i])\r\n",
        "            self.print_list.append(self.processing_time[i])\r\n",
        "            self.print_list.append(self.due_time[i])\r\n",
        "            self.print_list.append(self.flow_time[i])\r\n",
        "            self.print_list.append(self.job_lateness[i])\r\n",
        "            self.print_event()\r\n",
        "            print(\"\\n-------------------------------------------------------------------------------------------------------------------------\")\r\n",
        "        self.matric_calculate()\r\n",
        "\r\n",
        "    def print_event(self):\r\n",
        "        print(\"|\\t\", self.print_list[0] , end = \"\\t|\\t\")\r\n",
        "        print(self.print_list[1] , end = \"\\t\\t\\t|\\t\")\r\n",
        "        print(self.print_list[2] , end = \"\\t\\t|\\t\")\r\n",
        "        print(self.print_list[3] , end = \"\\t\\t|\\t\")\r\n",
        "        print(self.print_list[4] , end = \"\\t\\t|\\t\")\r\n",
        "    \r\n",
        "    def matric_calculate(self):\r\n",
        "        n = len(self.job_info)\r\n",
        "        sum_processing_time = sum(self.processing_time)\r\n",
        "        sum_flow_time = sum(self.flow_time)\r\n",
        "        sum_job_lateness = sum(self.job_lateness)\r\n",
        "\r\n",
        "        self.print_list = []\r\n",
        "        self.print_list.append(\"Total\")\r\n",
        "        self.print_list.append(sum_processing_time)\r\n",
        "        self.print_list.append(\"---\")\r\n",
        "        self.print_list.append(sum_flow_time)\r\n",
        "        self.print_list.append(sum_job_lateness)\r\n",
        "        self.print_event()\r\n",
        "        print(\"\\n-------------------------------------------------------------------------------------------------------------------------\")\r\n",
        "\r\n",
        "        print(\"\\n\\n\")\r\n",
        "        print(\"Matric: \\n\")\r\n",
        "        act = round(sum_flow_time/n, 2)\r\n",
        "        print(\"Average completion time = ΣflowTime/#of jobs : \", act)\r\n",
        "\r\n",
        "        utilization = round( (sum_processing_time*100)/sum_flow_time, 2)\r\n",
        "        print(\"Utilization = ΣProcessingTime/ΣflowTime : \", utilization, \"%\")\r\n",
        "\r\n",
        "        avg_job = round(sum_flow_time/sum_processing_time ,2)\r\n",
        "        print(\"Average number of jobs in the system = ΣflowTime / ΣProcessingTime : \", avg_job, \" jobs\")\r\n",
        "\r\n",
        "        avg_job_lateness = sum_job_lateness/n\r\n",
        "        print(\"Average job lateness = ΣjobLateness/#of jobs : \", avg_job_lateness)\r\n",
        "\r\n",
        "\r\n",
        "        print(\"\\n\\n\")"
      ],
      "outputs": [],
      "metadata": {
        "id": "iX6zfbnp02Yh"
      }
    },
    {
      "cell_type": "markdown",
      "source": [
        "### FCFS"
      ],
      "metadata": {
        "id": "WUgO5g37BFiY"
      }
    },
    {
      "cell_type": "code",
      "execution_count": null,
      "source": [
        "obj = Schedule()\n",
        "obj.calculate(\"FCFS\")"
      ],
      "outputs": [
        {
          "output_type": "stream",
          "name": "stdout",
          "text": [
            "FCFS  The sequence of job :  E --> F --> A --> C --> D --> B\n",
            "\n",
            "Table: \n",
            "\n",
            "-------------------------------------------------------------------------------------------------------------------------\n",
            "|\tJob\t|\tProcessingTime\t\t|\tDueTime\t\t|\tFlowTime\t|\tJobLateness\t|\n",
            "-------------------------------------------------------------------------------------------------------------------------\n",
            "|\t E\t|\t68\t\t\t|\t99\t\t|\t68\t\t|\t0\t\t|\t\n",
            "-------------------------------------------------------------------------------------------------------------------------\n",
            "|\t F\t|\t112\t\t\t|\t168\t\t|\t180\t\t|\t12\t\t|\t\n",
            "-------------------------------------------------------------------------------------------------------------------------\n",
            "|\t A\t|\t31\t\t\t|\t114\t\t|\t211\t\t|\t97\t\t|\t\n",
            "-------------------------------------------------------------------------------------------------------------------------\n",
            "|\t C\t|\t99\t\t\t|\t193\t\t|\t310\t\t|\t117\t\t|\t\n",
            "-------------------------------------------------------------------------------------------------------------------------\n",
            "|\t D\t|\t77\t\t\t|\t217\t\t|\t387\t\t|\t170\t\t|\t\n",
            "-------------------------------------------------------------------------------------------------------------------------\n",
            "|\t B\t|\t119\t\t\t|\t199\t\t|\t506\t\t|\t307\t\t|\t\n",
            "-------------------------------------------------------------------------------------------------------------------------\n",
            "|\t Total\t|\t506\t\t\t|\t---\t\t|\t1662\t\t|\t703\t\t|\t\n",
            "-------------------------------------------------------------------------------------------------------------------------\n",
            "\n",
            "\n",
            "\n",
            "Matric: \n",
            "\n",
            "Average completion time = ΣflowTime/#of jobs :  277.0\n",
            "Utilization = ΣProcessingTime/ΣflowTime :  30.45 %\n",
            "Average number of jobs in the system = ΣflowTime / ΣProcessingTime :  3.28  jobs\n",
            "Average job lateness = ΣjobLateness/#of jobs :  117.16666666666667\n",
            "\n",
            "\n",
            "\n"
          ]
        }
      ],
      "metadata": {
        "colab": {
          "base_uri": "https://localhost:8080/"
        },
        "id": "kRN7fg-O4FEv",
        "outputId": "7a75aee4-6ebc-45e0-e8b1-9e86395a5554"
      }
    },
    {
      "cell_type": "markdown",
      "source": [
        "### SPT"
      ],
      "metadata": {
        "id": "gmDldjKFE8Oj"
      }
    },
    {
      "cell_type": "code",
      "execution_count": null,
      "source": [
        "obj = Schedule()\n",
        "obj.calculate(\"SPT\")"
      ],
      "outputs": [
        {
          "output_type": "stream",
          "name": "stdout",
          "text": [
            "SPT  The sequence of job :  B --> D --> A --> C --> E\n",
            "\n",
            "Table: \n",
            "\n",
            "-------------------------------------------------------------------------------------------------------------------------\n",
            "|\tJob\t|\tProcessingTime\t\t|\tDueTime\t\t|\tFlowTime\t|\tJobLateness\t|\n",
            "-------------------------------------------------------------------------------------------------------------------------\n",
            "|\t B\t|\t2\t\t\t|\t6\t\t|\t2\t\t|\t0\t\t|\t\n",
            "-------------------------------------------------------------------------------------------------------------------------\n",
            "|\t D\t|\t3\t\t\t|\t15\t\t|\t5\t\t|\t0\t\t|\t\n",
            "-------------------------------------------------------------------------------------------------------------------------\n",
            "|\t A\t|\t6\t\t\t|\t8\t\t|\t11\t\t|\t3\t\t|\t\n",
            "-------------------------------------------------------------------------------------------------------------------------\n",
            "|\t C\t|\t8\t\t\t|\t18\t\t|\t19\t\t|\t1\t\t|\t\n",
            "-------------------------------------------------------------------------------------------------------------------------\n",
            "|\t E\t|\t9\t\t\t|\t23\t\t|\t28\t\t|\t5\t\t|\t\n",
            "-------------------------------------------------------------------------------------------------------------------------\n",
            "|\t Total\t|\t28\t\t\t|\t---\t\t|\t65\t\t|\t9\t\t|\t\n",
            "-------------------------------------------------------------------------------------------------------------------------\n",
            "\n",
            "\n",
            "\n",
            "Matric: \n",
            "\n",
            "Average completion time = ΣflowTime/#of jobs :  13.0\n",
            "Utilization = ΣProcessingTime/ΣflowTime :  43.08 %\n",
            "Average number of jobs in the system = ΣflowTime / ΣProcessingTime :  2.32  jobs\n",
            "Average job lateness = ΣjobLateness/#of jobs :  1.8\n",
            "\n",
            "\n",
            "\n"
          ]
        }
      ],
      "metadata": {
        "colab": {
          "base_uri": "https://localhost:8080/"
        },
        "id": "TCcnXVp7E70B",
        "outputId": "1ff08e61-bcc1-4c05-960d-e635b92f07ef"
      }
    },
    {
      "cell_type": "markdown",
      "source": [
        "### EDD"
      ],
      "metadata": {
        "id": "rV7cvYz6FA_h"
      }
    },
    {
      "cell_type": "code",
      "execution_count": null,
      "source": [
        "obj = Schedule()\n",
        "obj.calculate(\"EDD\")"
      ],
      "outputs": [
        {
          "output_type": "stream",
          "name": "stdout",
          "text": [
            "EDD  The sequence of job :  B --> A --> D --> C --> E\n",
            "\n",
            "Table: \n",
            "\n",
            "-------------------------------------------------------------------------------------------------------------------------\n",
            "|\tJob\t|\tProcessingTime\t\t|\tDueTime\t\t|\tFlowTime\t|\tJobLateness\t|\n",
            "-------------------------------------------------------------------------------------------------------------------------\n",
            "|\t B\t|\t2\t\t\t|\t6\t\t|\t2\t\t|\t0\t\t|\t\n",
            "-------------------------------------------------------------------------------------------------------------------------\n",
            "|\t A\t|\t6\t\t\t|\t8\t\t|\t8\t\t|\t0\t\t|\t\n",
            "-------------------------------------------------------------------------------------------------------------------------\n",
            "|\t D\t|\t3\t\t\t|\t15\t\t|\t11\t\t|\t0\t\t|\t\n",
            "-------------------------------------------------------------------------------------------------------------------------\n",
            "|\t C\t|\t8\t\t\t|\t18\t\t|\t19\t\t|\t1\t\t|\t\n",
            "-------------------------------------------------------------------------------------------------------------------------\n",
            "|\t E\t|\t9\t\t\t|\t23\t\t|\t28\t\t|\t5\t\t|\t\n",
            "-------------------------------------------------------------------------------------------------------------------------\n",
            "|\t Total\t|\t28\t\t\t|\t---\t\t|\t68\t\t|\t6\t\t|\t\n",
            "-------------------------------------------------------------------------------------------------------------------------\n",
            "\n",
            "\n",
            "\n",
            "Matric: \n",
            "\n",
            "Average completion time = ΣflowTime/#of jobs :  13.6\n",
            "Utilization = ΣProcessingTime/ΣflowTime :  41.18 %\n",
            "Average number of jobs in the system = ΣflowTime / ΣProcessingTime :  2.43  jobs\n",
            "Average job lateness = ΣjobLateness/#of jobs :  1.2\n",
            "\n",
            "\n",
            "\n"
          ]
        }
      ],
      "metadata": {
        "colab": {
          "base_uri": "https://localhost:8080/"
        },
        "id": "kbMfn9bLFCcS",
        "outputId": "f41a853c-af82-44c0-916d-a251c709d9fe"
      }
    },
    {
      "cell_type": "markdown",
      "source": [
        "### LPT"
      ],
      "metadata": {
        "id": "P1iAOGTRFFvK"
      }
    },
    {
      "cell_type": "code",
      "execution_count": null,
      "source": [
        "obj = Schedule()\n",
        "obj.calculate(\"LPT\")"
      ],
      "outputs": [
        {
          "output_type": "stream",
          "name": "stdout",
          "text": [
            "LPT  The sequence of job :  E --> C --> A --> D --> B\n",
            "\n",
            "Table: \n",
            "\n",
            "-------------------------------------------------------------------------------------------------------------------------\n",
            "|\tJob\t|\tProcessingTime\t\t|\tDueTime\t\t|\tFlowTime\t|\tJobLateness\t|\n",
            "-------------------------------------------------------------------------------------------------------------------------\n",
            "|\t E\t|\t9\t\t\t|\t23\t\t|\t9\t\t|\t0\t\t|\t\n",
            "-------------------------------------------------------------------------------------------------------------------------\n",
            "|\t C\t|\t8\t\t\t|\t18\t\t|\t17\t\t|\t0\t\t|\t\n",
            "-------------------------------------------------------------------------------------------------------------------------\n",
            "|\t A\t|\t6\t\t\t|\t8\t\t|\t23\t\t|\t15\t\t|\t\n",
            "-------------------------------------------------------------------------------------------------------------------------\n",
            "|\t D\t|\t3\t\t\t|\t15\t\t|\t26\t\t|\t11\t\t|\t\n",
            "-------------------------------------------------------------------------------------------------------------------------\n",
            "|\t B\t|\t2\t\t\t|\t6\t\t|\t28\t\t|\t22\t\t|\t\n",
            "-------------------------------------------------------------------------------------------------------------------------\n",
            "|\t Total\t|\t28\t\t\t|\t---\t\t|\t103\t\t|\t48\t\t|\t\n",
            "-------------------------------------------------------------------------------------------------------------------------\n",
            "\n",
            "\n",
            "\n",
            "Matric: \n",
            "\n",
            "Average completion time = ΣflowTime/#of jobs :  20.6\n",
            "Utilization = ΣProcessingTime/ΣflowTime :  27.18 %\n",
            "Average number of jobs in the system = ΣflowTime / ΣProcessingTime :  3.68  jobs\n",
            "Average job lateness = ΣjobLateness/#of jobs :  9.6\n",
            "\n",
            "\n",
            "\n"
          ]
        }
      ],
      "metadata": {
        "colab": {
          "base_uri": "https://localhost:8080/"
        },
        "id": "VywPTPCkFDZj",
        "outputId": "8918d9ba-251d-489c-9648-f12d79f4a3a1"
      }
    }
  ]
}