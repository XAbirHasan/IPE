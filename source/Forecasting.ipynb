{
  "nbformat": 4,
  "nbformat_minor": 2,
  "metadata": {
    "colab": {
      "name": "IPE theory.ipynb",
      "provenance": []
    },
    "kernelspec": {
      "name": "python3",
      "display_name": "Python 3"
    },
    "language_info": {
      "name": "python"
    }
  },
  "cells": [
    {
      "cell_type": "markdown",
      "source": [
        "# Chapter FORECASTING\r\n"
      ],
      "metadata": {
        "id": "kwvJvHdHpX44"
      }
    },
    {
      "cell_type": "markdown",
      "source": [
        "## EXP FORECAST"
      ],
      "metadata": {
        "id": "br_BPMf1ewQs"
      }
    },
    {
      "cell_type": "code",
      "execution_count": null,
      "source": [
        "class Exp_Forecast:\r\n",
        "    def __init__(self):\r\n",
        "        self.year = []\r\n",
        "        self.A = [999, 989, 998, 919, 938, 967, 971]\r\n",
        "        self.F = []\r\n",
        "        self.alpha = 0.19\r\n",
        "\r\n",
        "        self.print_list = []\r\n",
        "    def calculate(self, start_year, end_year, given_year, given_fore_cast):\r\n",
        "        n = (end_year - start_year) + 1\r\n",
        "        s = start_year\r\n",
        "        for i in range(0, n):\r\n",
        "            self.year.append(s)\r\n",
        "            s += 1\r\n",
        "            self.F.append(0)\r\n",
        "        given_index = given_year - start_year\r\n",
        "        self.F[given_index] = given_fore_cast\r\n",
        "        print(\"F\",given_index+1 , \" = \",self.F[given_index])\r\n",
        "        print(\"\\n\\n\")\r\n",
        "        if (given_year>start_year):\r\n",
        "            for i in range(given_index, 0, -1):\r\n",
        "                print(\"F\",i , \" = \", \"( F\", i+1 , \" - \", self.alpha, \"A\", i , \")/( 1 - \", self.alpha, \" )\")\r\n",
        "                self.F[i-1] = round((self.F[i] - self.alpha*self.A[i-1])/(1 - self.alpha), 2)\r\n",
        "                print(\"F\",i , \" = \",self.F[i-1])\r\n",
        "                print(\"\\n\\n\")\r\n",
        "        for i in range(given_index+1, n):\r\n",
        "            print(\"F\",i+1 , \" = \", \"F\", i , \" + \", self.alpha, \"(A\", i , \" - F\", i, \")\")\r\n",
        "            self.F[i] = round(self.F[i-1] + self.alpha*(self.A[i-1] - self.F[i-1]), 2)\r\n",
        "            print(\"F\",i+1 , \" = \",self.F[i])\r\n",
        "            print(\"\\n\\n\")"
      ],
      "outputs": [],
      "metadata": {
        "id": "dTtZTFOee1cw"
      }
    },
    {
      "cell_type": "code",
      "execution_count": null,
      "source": [
        "obj = Exp_Forecast()\r\n",
        "obj.calculate(2003, 2009, 2006, 979)"
      ],
      "outputs": [
        {
          "output_type": "stream",
          "name": "stdout",
          "text": [
            "F 4  =  979\n",
            "\n",
            "\n",
            "\n",
            "F 3  =  ( F 4  -  0.19 A 3 )/( 1 -  0.19  )\n",
            "F 3  =  974.54\n",
            "\n",
            "\n",
            "\n",
            "F 2  =  ( F 3  -  0.19 A 2 )/( 1 -  0.19  )\n",
            "F 2  =  971.15\n",
            "\n",
            "\n",
            "\n",
            "F 1  =  ( F 2  -  0.19 A 1 )/( 1 -  0.19  )\n",
            "F 1  =  964.62\n",
            "\n",
            "\n",
            "\n",
            "F 5  =  F 4  +  0.19 (A 4  - F 4 )\n",
            "F 5  =  967.6\n",
            "\n",
            "\n",
            "\n",
            "F 6  =  F 5  +  0.19 (A 5  - F 5 )\n",
            "F 6  =  961.98\n",
            "\n",
            "\n",
            "\n",
            "F 7  =  F 6  +  0.19 (A 6  - F 6 )\n",
            "F 7  =  962.93\n",
            "\n",
            "\n",
            "\n"
          ]
        }
      ],
      "metadata": {
        "colab": {
          "base_uri": "https://localhost:8080/"
        },
        "id": "O96jZF7SjrVb",
        "outputId": "227da378-9e4b-447f-c775-117b37d027d5"
      }
    },
    {
      "cell_type": "markdown",
      "source": [
        "## Finding a Trend Line"
      ],
      "metadata": {
        "id": "1hGkTu5gX2uK"
      }
    },
    {
      "cell_type": "code",
      "execution_count": null,
      "source": [
        "class Trend_Line:\n",
        "    def __init__(self):\n",
        "        self.year = []\n",
        "        self.y = [74, 79, 80, 90, 105, 142, 122]\n",
        "        self.x = []\n",
        "        self.x_sq = []\n",
        "        self.xy = []\n",
        "        self.start_year = 1996\n",
        "        \n",
        "        self.print_list = []\n",
        "        \n",
        "    def calculate(self):\n",
        "        n = len(self.y)\n",
        "        start_year = self.start_year\n",
        "        print(\"------------------------------------------Table-----------------------------------------------\\n\\n\")\n",
        "        print(\"-----------------------------------------------------------------------------------------\")\n",
        "        print(\"|\\t year\\t\\t|\\ty\\t|\\tx\\t|\\tx^2\\t|\\txy\\t|\")\n",
        "        print(\"-----------------------------------------------------------------------------------------\")\n",
        "        for i in range (0, n):\n",
        "            start_year += 1\n",
        "            self.year.append(start_year)\n",
        "            self.x.append(i+1)\n",
        "            self.x_sq.append((i+1)**2)\n",
        "            xy =  self.x[i] * self.y[i]\n",
        "            self.xy.append(xy)\n",
        "\n",
        "            self.print_list = []\n",
        "\n",
        "            self.print_list.append(self.year[i])\n",
        "            self.print_list.append(self.y[i])\n",
        "            self.print_list.append(self.x[i])\n",
        "            self.print_list.append(self.x_sq[i])\n",
        "            self.print_list.append(self.xy[i])\n",
        "\n",
        "            self.print_event()\n",
        "            print(\"\\n-----------------------------------------------------------------------------------------\")\n",
        "\n",
        "    def print_event(self):\n",
        "        print(\"|\\t\", self.print_list[0] , end = \"\\t\\t|\\t\")\n",
        "        print(self.print_list[1] , end = \"\\t|\\t\")\n",
        "        print(self.print_list[2] , end = \"\\t|\\t\")\n",
        "        print(self.print_list[3] , end = \"\\t|\\t\")\n",
        "        print(self.print_list[4] , end = \"\\t|\\t\")\n",
        "\n",
        "    def line_find(self):\n",
        "        sum_y = sum(self.y)\n",
        "        sum_x = sum(self.x)\n",
        "        sum_x_sq = sum(self.x_sq)\n",
        "        sum_xy = sum(self.xy)\n",
        "\n",
        "        self.print_list = []\n",
        "\n",
        "        self.print_list.append(\"Total:\")\n",
        "        self.print_list.append(sum_y)\n",
        "        self.print_list.append(sum_x)\n",
        "        self.print_list.append(sum_x_sq)\n",
        "        self.print_list.append(sum_xy)\n",
        "\n",
        "        self.print_event()\n",
        "        print(\"\\n-----------------------------------------------------------------------------------------\")\n",
        "\n",
        "        print(\"\\n\\n\\n------------------------------------------line-----------------------------------------------\\n\\n\")\n",
        "        n = len(self.y)\n",
        "        x_bar = round((sum_x/n), 2)\n",
        "        y_bar = round((sum_y/n), 2)\n",
        "\n",
        "        b = (sum_xy - (n*x_bar*y_bar))/(sum_x_sq - (n*(x_bar**2)))\n",
        "        b = round(b, 2)\n",
        "\n",
        "        a = y_bar - b*x_bar\n",
        "        a = round(a, 2)\n",
        "\n",
        "        print(\"x̄ = Σx / n : \", x_bar)\n",
        "        print(\"ȳ = Σy / n : \", y_bar)\n",
        "        print(\"b = (Σxy - nx̄ȳ)/(Σx^2-n(x̄)^2) : \", b)\n",
        "        print(\"a = ȳ - bx̄ : \", a)\n",
        "\n",
        "        print(\"\\n\\nThe Overall Trend, Y = \", a, \" + \", b, \"X\")\n",
        "\n",
        "        return a, b\n",
        "    \n",
        "    def find_forecust(self, year, a, b):\n",
        "        x = year - self.start_year\n",
        "        y = a + b*x\n",
        "        print(\"Forecust at year \", year, \" is : \", y)"
      ],
      "outputs": [],
      "metadata": {
        "id": "qX39asr_X1-S"
      }
    },
    {
      "cell_type": "code",
      "execution_count": null,
      "source": [
        "line = Trend_Line()\n",
        "line.calculate()\n",
        "a, b = line.line_find()\n",
        "print(\"\\n\\n\\n------------------------------------------Forecust-----------------------------------------------\\n\")\n",
        "line.find_forecust(2004, a, b)\n",
        "line.find_forecust(2005, a, b)"
      ],
      "outputs": [
        {
          "output_type": "stream",
          "name": "stdout",
          "text": [
            "------------------------------------------Table-----------------------------------------------\n",
            "\n",
            "\n",
            "-----------------------------------------------------------------------------------------\n",
            "|\t year\t\t|\ty\t|\tx\t|\tx^2\t|\txy\t|\n",
            "-----------------------------------------------------------------------------------------\n",
            "|\t 1997\t\t|\t74\t|\t1\t|\t1\t|\t74\t|\t\n",
            "-----------------------------------------------------------------------------------------\n",
            "|\t 1998\t\t|\t79\t|\t2\t|\t4\t|\t158\t|\t\n",
            "-----------------------------------------------------------------------------------------\n",
            "|\t 1999\t\t|\t80\t|\t3\t|\t9\t|\t240\t|\t\n",
            "-----------------------------------------------------------------------------------------\n",
            "|\t 2000\t\t|\t90\t|\t4\t|\t16\t|\t360\t|\t\n",
            "-----------------------------------------------------------------------------------------\n",
            "|\t 2001\t\t|\t105\t|\t5\t|\t25\t|\t525\t|\t\n",
            "-----------------------------------------------------------------------------------------\n",
            "|\t 2002\t\t|\t142\t|\t6\t|\t36\t|\t852\t|\t\n",
            "-----------------------------------------------------------------------------------------\n",
            "|\t 2003\t\t|\t122\t|\t7\t|\t49\t|\t854\t|\t\n",
            "-----------------------------------------------------------------------------------------\n",
            "|\t Total:\t\t|\t692\t|\t28\t|\t140\t|\t3063\t|\t\n",
            "-----------------------------------------------------------------------------------------\n",
            "\n",
            "\n",
            "\n",
            "------------------------------------------line-----------------------------------------------\n",
            "\n",
            "\n",
            "x̄ = Σx / n :  4.0\n",
            "ȳ = Σy / n :  98.86\n",
            "b = (Σxy - nx̄ȳ)/(Σx^2-n(x̄)^2) :  10.53\n",
            "a = ȳ - bx̄ :  56.74\n",
            "\n",
            "\n",
            "The Overall Trend, Y =  56.74  +  10.53 X\n",
            "\n",
            "\n",
            "\n",
            "------------------------------------------Forecust-----------------------------------------------\n",
            "\n",
            "Forecust at year  2004  is :  140.98\n",
            "Forecust at year  2005  is :  151.51\n"
          ]
        }
      ],
      "metadata": {
        "colab": {
          "base_uri": "https://localhost:8080/"
        },
        "id": "-ZIVGWfNci16",
        "outputId": "24409b40-7da8-4277-9540-61b8f262dcd0"
      }
    },
    {
      "cell_type": "markdown",
      "source": [
        "## Forecast Error Calculation"
      ],
      "metadata": {
        "id": "lskEGSdDmezj"
      }
    },
    {
      "cell_type": "code",
      "execution_count": null,
      "source": [
        "class Error_Forecast:\n",
        "    def __init__(self):\n",
        "        self.period = []\n",
        "        self.actual = [217, 213, 216, 210, 213, 219, 216, 212]\n",
        "        self.forecast = [215, 216, 215, 214, 211, 214, 217, 216]\n",
        "        self.error = []\n",
        "        self.error_abs = []\n",
        "        self.error_sq = []\n",
        "        self.error_percent = []\n",
        "\n",
        "        self.print_list = []\n",
        "    \n",
        "    def calculate(self):\n",
        "        n = len(self.actual)\n",
        "        m = len(self.forecast)\n",
        "        period = 1\n",
        "        if (m == n):\n",
        "            print(\"------------------------------------------------------------------------------Table-------------------------------------------------------------------------------------------\\n\\n\")\n",
        "            print(\"-------------------------------------------------------------------------------------------------------------------------------------------------------------------------\")\n",
        "            print(\"|\\tPeriod\\t\\t|\\tActual\\t|\\tForecast\\t|\\tError(A-F)\\t|\\tabs(Error)\\t|\\tError^2\\t|\\tabs(Error)/A * 100 \\t\\t|\")\n",
        "            print(\"-------------------------------------------------------------------------------------------------------------------------------------------------------------------------\")\n",
        "            for i in range(0, n):\n",
        "                error = self.actual[i] - self.forecast[i]\n",
        "                erro_sq = error**2\n",
        "                error_percent = round(((abs(error)/self.actual[i]) *100), 2 )\n",
        "\n",
        "                self.period.append(period)\n",
        "                #actual\n",
        "                #forecast\n",
        "                self.error.append(error)\n",
        "                self.error_abs.append(abs(error))\n",
        "                self.error_sq.append(erro_sq)\n",
        "                self.error_percent.append(error_percent)\n",
        "\n",
        "                period += 1\n",
        "\n",
        "                self.print_list = []\n",
        "                self.print_list.append(self.period[i])\n",
        "                self.print_list.append(self.actual[i])\n",
        "                self.print_list.append(self.forecast[i])\n",
        "                self.print_list.append(self.error[i])\n",
        "                self.print_list.append(self.error_abs[i])\n",
        "                self.print_list.append(self.error_sq[i])\n",
        "                self.print_list.append(self.error_percent[i])\n",
        "                self.print_event(1)\n",
        "                print(\"\\n-------------------------------------------------------------------------------------------------------------------------------------------------------------------------\")\n",
        "        else:\n",
        "            print(\"actual and forecast row didn't match\")\n",
        "\n",
        "    def print_event(self, flag):\n",
        "        print(\"|\\t\", self.print_list[0] , end = \"\\t\\t|\\t\")\n",
        "        print(self.print_list[1] , end = \"\\t|\\t\")\n",
        "        print(self.print_list[2] , end = \"\\t\\t|\\t\")\n",
        "        print(self.print_list[3] , end = \"\\t\\t|\\t\")\n",
        "        print(self.print_list[4] , end = \"\\t\\t|\\t\")\n",
        "        print(self.print_list[5] , end = \"\\t|\\t\")\n",
        "        if flag == 1:\n",
        "            print(\"( \", self.print_list[4], \"/\", self.print_list[1], \" ) * 100 = \",  self.print_list[6] , end = \"%\\t|\\t\")\n",
        "        else:\n",
        "            print(\"\\t\\t\", self.print_list[6] , end = \"%\\t\\t|\\t\")\n",
        "    \n",
        "    def find_equations(self):\n",
        "        n = len(self.actual)\n",
        "        sum_error_sq = sum(self.error_sq)\n",
        "        sum_error_abs = sum(self.error_abs)\n",
        "        sum_erro_percent = sum(self.error_percent)\n",
        "\n",
        "        self.print_list = []\n",
        "        self.print_list.append(\"Total:\")\n",
        "        self.print_list.append(\"----\")\n",
        "        self.print_list.append(\"----\")\n",
        "        self.print_list.append(\"----\")\n",
        "        self.print_list.append(sum_error_abs)\n",
        "        self.print_list.append(sum_error_sq)\n",
        "        self.print_list.append(sum_erro_percent)\n",
        "        self.print_event(0)\n",
        "        print(\"\\n-------------------------------------------------------------------------------------------------------------------------------------------------------------------------\")\n",
        "\n",
        "        print(\"\\n\\n\\n------------------------------------------------------------------------------Equations-------------------------------------------------------------------------------------------\\n\\n\")\n",
        "        mse = round(sum_error_sq/n, 2)\n",
        "        print(\"write equation\")\n",
        "        print(\"Mean Square Error (MSE): \", mse, end = \"\\n\\n\")\n",
        "        \n",
        "\n",
        "        mad = round(sum_error_abs/n, 2)\n",
        "        print(\"write equation\")\n",
        "        print(\"Mean Absolute Deviation (MAD): \", mad, end = \"\\n\\n\")\n",
        "        \n",
        "\n",
        "        mape = round(sum_erro_percent/n, 2)\n",
        "        print(\"write equation\")\n",
        "        print(\"Mean Absolute Percent Error (MAPE):\", mape, end = \"%\\n\\n\")\n",
        "        \n",
        "\n",
        "\n"
      ],
      "outputs": [],
      "metadata": {
        "id": "MO10Z8CdmePC"
      }
    },
    {
      "cell_type": "code",
      "execution_count": null,
      "source": [
        "error_finder = Error_Forecast()\n",
        "error_finder.calculate()\n",
        "error_finder.find_equations()"
      ],
      "outputs": [
        {
          "output_type": "stream",
          "name": "stdout",
          "text": [
            "------------------------------------------------------------------------------Table-------------------------------------------------------------------------------------------\n",
            "\n",
            "\n",
            "-------------------------------------------------------------------------------------------------------------------------------------------------------------------------\n",
            "|\tPeriod\t\t|\tActual\t|\tForecast\t|\tError(A-F)\t|\tabs(Error)\t|\tError^2\t|\tabs(Error)/A * 100 \t\t|\n",
            "-------------------------------------------------------------------------------------------------------------------------------------------------------------------------\n",
            "|\t 1\t\t|\t217\t|\t215\t\t|\t2\t\t|\t2\t\t|\t4\t|\t(  2 / 217  ) * 100 =  0.92%\t|\t\n",
            "-------------------------------------------------------------------------------------------------------------------------------------------------------------------------\n",
            "|\t 2\t\t|\t213\t|\t216\t\t|\t-3\t\t|\t3\t\t|\t9\t|\t(  3 / 213  ) * 100 =  1.41%\t|\t\n",
            "-------------------------------------------------------------------------------------------------------------------------------------------------------------------------\n",
            "|\t 3\t\t|\t216\t|\t215\t\t|\t1\t\t|\t1\t\t|\t1\t|\t(  1 / 216  ) * 100 =  0.46%\t|\t\n",
            "-------------------------------------------------------------------------------------------------------------------------------------------------------------------------\n",
            "|\t 4\t\t|\t210\t|\t214\t\t|\t-4\t\t|\t4\t\t|\t16\t|\t(  4 / 210  ) * 100 =  1.9%\t|\t\n",
            "-------------------------------------------------------------------------------------------------------------------------------------------------------------------------\n",
            "|\t 5\t\t|\t213\t|\t211\t\t|\t2\t\t|\t2\t\t|\t4\t|\t(  2 / 213  ) * 100 =  0.94%\t|\t\n",
            "-------------------------------------------------------------------------------------------------------------------------------------------------------------------------\n",
            "|\t 6\t\t|\t219\t|\t214\t\t|\t5\t\t|\t5\t\t|\t25\t|\t(  5 / 219  ) * 100 =  2.28%\t|\t\n",
            "-------------------------------------------------------------------------------------------------------------------------------------------------------------------------\n",
            "|\t 7\t\t|\t216\t|\t217\t\t|\t-1\t\t|\t1\t\t|\t1\t|\t(  1 / 216  ) * 100 =  0.46%\t|\t\n",
            "-------------------------------------------------------------------------------------------------------------------------------------------------------------------------\n",
            "|\t 8\t\t|\t212\t|\t216\t\t|\t-4\t\t|\t4\t\t|\t16\t|\t(  4 / 212  ) * 100 =  1.89%\t|\t\n",
            "-------------------------------------------------------------------------------------------------------------------------------------------------------------------------\n",
            "|\t Total:\t\t|\t----\t|\t----\t\t|\t----\t\t|\t22\t\t|\t76\t|\t\t\t 10.26%\t\t|\t\n",
            "-------------------------------------------------------------------------------------------------------------------------------------------------------------------------\n",
            "\n",
            "\n",
            "\n",
            "------------------------------------------------------------------------------Equations-------------------------------------------------------------------------------------------\n",
            "\n",
            "\n",
            "write equation\n",
            "Mean Square Error (MSE):  9.5\n",
            "\n",
            "write equation\n",
            "Mean Absolute Deviation (MAD):  2.75\n",
            "\n",
            "write equation\n",
            "Mean Absolute Percent Error (MAPE): 1.28%\n",
            "\n"
          ]
        }
      ],
      "metadata": {
        "colab": {
          "base_uri": "https://localhost:8080/"
        },
        "id": "BkwihJW6tBDK",
        "outputId": "334bd8f8-d495-4a24-a9fe-ace9fd956f75"
      }
    }
  ]
}